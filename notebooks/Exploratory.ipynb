{
 "cells": [
  {
   "cell_type": "code",
   "execution_count": null,
   "metadata": {
    "collapsed": false
   },
   "outputs": [],
   "source": [
    "from IPython.display import HTML\n",
    "\n",
    "HTML('''<script>\n",
    "code_show=true; \n",
    "function code_toggle() {\n",
    " if (code_show){\n",
    " $('div.input').hide();\n",
    " } else {\n",
    " $('div.input').show();\n",
    " }\n",
    " code_show = !code_show\n",
    "} \n",
    "$( document ).ready(code_toggle);\n",
    "</script>\n",
    "<form action=\"javascript:code_toggle()\"><input type=\"submit\" value=\"Click here to toggle on/off the raw code.\"></form>''')"
   ]
  },
  {
   "cell_type": "code",
   "execution_count": null,
   "metadata": {
    "collapsed": false
   },
   "outputs": [],
   "source": [
    "%load_ext autoreload \n",
    "%autoreload 2\n",
    "import os\n",
    "os.chdir('../')\n",
    "from geocolab.Data_Utils import *\n",
    "import pandas as pd\n",
    "import seaborn as sns\n",
    "\n",
    "import matplotlib.pylab as plt\n",
    "%matplotlib inline\n",
    "\n",
    "import plotly\n",
    "import plotly.plotly as py\n",
    "import plotly.graph_objs as go\n",
    "from plotly.tools import FigureFactory as FF \n",
    "plotly.offline.init_notebook_mode()  "
   ]
  },
  {
   "cell_type": "code",
   "execution_count": null,
   "metadata": {
    "collapsed": false
   },
   "outputs": [],
   "source": [
    "from nltk.tokenize import RegexpTokenizer\n",
    "tokenizer = RegexpTokenizer(r'\\w+')\n",
    "import unicodedata\n",
    "\n",
    "def tag_to_section(obj):\n",
    "    try:\n",
    "        tag_section = obj.tag[:2]\n",
    "        if tag_section[1] in [str(i) for i in range(10)]:\n",
    "            tag_section = obj.tag[0]\n",
    "    except:\n",
    "        tag_section = ''\n",
    "    if tag_section.isupper():\n",
    "        return tag_section\n",
    "    else:\n",
    "        return ''\n",
    "    \n",
    "    \n",
    "def presentation(time):\n",
    "    time_beg = time.split('-')[0].split(':')[0]\n",
    "    time_end = time.split('-')[1].split(':')[0]\n",
    "    if int(time_end)-int(time_beg) == 0:\n",
    "        return 'Oral'\n",
    "    else:\n",
    "        return 'Poster'\n",
    "\n",
    "def first_clean_title(text):\n",
    "    if text.split(' ')[-1] == '(Invited)':\n",
    "        text = ' '.join(text.split(' ')[:-1])\n",
    "    return text\n",
    "def clean(text):\n",
    "    try:\n",
    "        text = unicodedata.normalize('NFKD', text).encode('ascii','ignore')\n",
    "        text = text.replace('\\n', ' ')\n",
    "    except:\n",
    "        pass\n",
    "    return text\n",
    "\n",
    "\n",
    "def clean_session(session):\n",
    "    return ' '.join([f for f in session.split(' ') if f not in ['I','II','III','IV','V','Posters','(Half Session)']])\n",
    "    \n",
    "def extract_info(obj):\n",
    "    ''' obj is a Paper object '''\n",
    "    try:\n",
    "        tag = tag_to_section(obj)\n",
    "        year = str(obj.date.split(',')[1].split(' ')[-1])\n",
    "        day = obj.date.split(',')[0].strip()\n",
    "        date = obj.date.split(',')[1].strip()\n",
    "        nb_authors = len(obj.authors)\n",
    "        place = obj.place.split('-')[0].strip()\n",
    "        room = obj.place.split('-')[-1].strip()\n",
    "        ref = len(obj.reference)\n",
    "        section = obj.section.strip().encode('utf-8')\n",
    "        session = clean_session(obj.session.strip()).encode('utf-8')\n",
    "        pres = presentation(obj.time)\n",
    "        title_words = tokenizer.tokenize(repr(obj.title[0]).lower())\n",
    "        invited = int('invited' in title_words)\n",
    "        lentitle = len(title_words)-1 # to remove the 'u' from unicode\n",
    "        title = clean(first_clean_title(' '.join(obj.title)))\n",
    "        \n",
    "        return [day,date,nb_authors,place,room,ref,section,session,pres,invited,lentitle,year,title,tag]\n",
    "    except:\n",
    "        return ['']\n",
    "    \n",
    "columns = ['day','date','nb_authors','place','room','ref','section','session','pres','invited','lentitle','year','title','tag']\n",
    "df = pd.DataFrame(columns = columns)\n",
    "for year in [2014,2015]:\n",
    "    data = get_all_data(year)\n",
    "    df = df.append(pd.DataFrame(map(extract_info,data),columns = columns).dropna())\n",
    "    "
   ]
  },
  {
   "cell_type": "code",
   "execution_count": null,
   "metadata": {
    "collapsed": true
   },
   "outputs": [],
   "source": [
    "year2014 = df.groupby('year').get_group('2014')\n",
    "year2015 = df.groupby('year').get_group('2015')"
   ]
  },
  {
   "cell_type": "markdown",
   "metadata": {},
   "source": [
    "American  Geophysical Union  (AGU) meeting  is a  geocsience conference\n",
    "hold  each year  around Christmas  in San  Francisco. It  represents a\n",
    "great opportunity for PhD students like  me to show off their work and\n",
    "enjoy what the west coast has to offer.\n",
    "\n",
    "![AGU logo](https://meetings.agu.org/meetings/files/2014/04/fm300x200.jpg)\n",
    "\n",
    "However, with  nearly 24 000 attendees,  AGU Fall Meeting is  also the\n",
    "largest Earth  and space  science meeting  in the  world. As  such, it\n",
    "represents an interesting dataset to dive into the geoscience academic world."
   ]
  },
  {
   "cell_type": "markdown",
   "metadata": {},
   "source": [
    "For a new attendee like me two years ago, the amount of information available is clearly overwhelming. For instance, nearly 3500 poster and 1000 oral presentations are scheduled for only the first day of the conference. As each oral presentation is offered a 15 min time slot, this represents 250 hours of talks and assuming 15 slides by presentations, nearly 15000 slides of geoscience stuff, i.e. a lot to process for a human being ;) "
   ]
  },
  {
   "cell_type": "code",
   "execution_count": null,
   "metadata": {
    "collapsed": false
   },
   "outputs": [],
   "source": [
    "data = year2015.groupby(['day','pres']).pres.count()\n",
    "days = list(set(year2015.day))\n",
    "days = ['Monday','Tuesday','Wednesday','Thursday','Friday']\n",
    "val = [data.loc[f,'Oral'] for f in days]\n",
    "trace0 = go.Bar(\n",
    "    x=days,\n",
    "    y=val,\n",
    "    name='Oral',\n",
    "    marker=dict(\n",
    "        color='rgb(49,130,189)'\n",
    "    )\n",
    ")\n",
    "val = [data.loc[f,'Poster'] for f in days]\n",
    "trace1 = go.Bar(\n",
    "    x=days,\n",
    "    y=val,\n",
    "    name='Poster',\n",
    "    marker=dict(\n",
    "        color='rgb(204,204,204)',\n",
    "    )\n",
    ")\n",
    "data = [trace0, trace1]\n",
    "layout = go.Layout(\n",
    "    height = 500,\n",
    "    titlefont = {'size':18},\n",
    "    margin = {'b':125,'r':25},\n",
    "    title='Nb of oral/poster presentation by day',\n",
    "    yaxis = dict(title='Nb of presentations',\n",
    "                titlefont = {'size':18},\n",
    "                tickfont = {'size':18}),\n",
    "    xaxis=dict(\n",
    "        # set x-axis' labels direction at 45 degree angle\n",
    "        tickangle=-45,\n",
    "        tickfont = {'size':16}\n",
    "    ),\n",
    "    barmode='group',\n",
    ")\n",
    "fig = go.Figure(data=data, layout=layout)\n",
    "plotly.offline.iplot(fig, show_link=False)\n",
    "#py.iplot(fig,filename = 'AGUDayPres')\n"
   ]
  },
  {
   "cell_type": "markdown",
   "metadata": {},
   "source": [
    "Nevertheless, the organization of the conference makes it easy to focus on your specific field of interest. Indeed, the conference is organized by sessions, themselves organized into 27 different sections which cover almost everthing possible geoscience subject, from the fluid dynamics of the inner core in the Earth deep interior section to the formation of terrestrial planets if the planetary science one. \n",
    "\n",
    "Sessions are proposed by convenier and are scheduled in the conference if they manage to gather a sufficient number of abstracts. \n",
    "If a session does so, it is granted with a 2 hours time slot for an oral session and a 4 hours slot for poster presentation. The decision of wether each contribution goes in the oral or the poster slot is taken by the session convieners. In particular, an oral awarded contribution will get a 15 min slot in the oral presentation to convince other fellows of their good work.\n",
    " \n",
    "The number of sessions by section can first be used as a proxy for the populatiry of each field. For instance, this year, atmospheric processes, hydrology and biogeoscences host the most sessions during the conference."
   ]
  },
  {
   "cell_type": "code",
   "execution_count": null,
   "metadata": {
    "collapsed": false
   },
   "outputs": [],
   "source": [
    "trace0 = go.Pie(\n",
    "    labels = year2015.groupby('section').apply(lambda x: len(x.session.unique())).index.tolist(),\n",
    "    values = year2015.groupby('section').apply(lambda x: len(x.session.unique())).tolist(),\n",
    "    text = year2015.groupby('section').apply(lambda x: len(x.session.unique())).index.tolist(),\n",
    "    marker = {'colors':sns.color_palette('deep',len(set(year2015.section)))},\n",
    "    name = '2015',\n",
    "    textfont = {'size':12},\n",
    "    hoverinfo = \"label+value\",\n",
    "    showlegend = False,\n",
    "    textposition = \"inside\",\n",
    "    domain = {'x':[0,1.0]})\n",
    "data = [trace0]\n",
    "\n",
    "layout = go.Layout(\n",
    "    height = 800,\n",
    "    titlefont = {'size':18},\n",
    "    margin = {'b':0,'r':2,'l':2},\n",
    "    title='Nb of sessions by section in 2015',\n",
    "    legend = {'yanchor':'auto',\n",
    "              'x':.85,\n",
    "             'font':{'size':15}})\n",
    "\n",
    "fig = go.Figure(data=data,layout=layout)\n",
    "#py.iplot(fig,filename = 'NbSessionSection')\n",
    "plotly.offline.iplot(fig, show_link=False)"
   ]
  },
  {
   "cell_type": "markdown",
   "metadata": {},
   "source": [
    "However, the number of contributions by sections may give us a better measure for the popularity of each field. Note that these numbers, which sum to nearly 100000, are not representative of the size of the geoscience communitee as one authors can contributes to many contributions. Indeed, in average, the average number of authors by contribution is close to 4 which, assuming that everybody comes, give about 25000 attendees. "
   ]
  },
  {
   "cell_type": "code",
   "execution_count": null,
   "metadata": {
    "collapsed": false
   },
   "outputs": [],
   "source": [
    "year2015.groupby('section').nb_authors.mean()"
   ]
  },
  {
   "cell_type": "code",
   "execution_count": null,
   "metadata": {
    "collapsed": false
   },
   "outputs": [],
   "source": [
    "trace0 = go.Bar(\n",
    "    x=year2015.groupby('section').nb_authors.sum().sort_values(ascending=False).index.tolist(),\n",
    "    y=year2015.groupby('section').nb_authors.sum().sort_values(ascending=False).tolist(),\n",
    "    name='2015',\n",
    "    marker=dict(\n",
    "        color='rgb(49,130,189)'\n",
    "    )\n",
    ")\n",
    "trace1 = go.Bar(\n",
    "    x=year2014.groupby('section').nb_authors.sum().index.tolist(),\n",
    "    y=year2014.groupby('section').nb_authors.sum().tolist(),\n",
    "    name='2014',\n",
    "    marker=dict(\n",
    "        color='rgb(204,204,204)',\n",
    "    )\n",
    ")\n",
    "data = [trace0, trace1]\n",
    "layout = go.Layout(\n",
    "    height = 750,\n",
    "    titlefont = {'size':18},\n",
    "    margin = {'b':250,'r':100},\n",
    "    title='Nb of contributors by section',\n",
    "    yaxis = dict(title='Nb authors',\n",
    "                titlefont = {'size':18},\n",
    "                tickfont = {'size':18}),\n",
    "    xaxis=dict(\n",
    "        # set x-axis' labels direction at 45 degree angle\n",
    "        tickangle=-45,\n",
    "        tickfont = {'size':14}\n",
    "    ),\n",
    "    barmode='group',\n",
    ")\n",
    "fig = go.Figure(data=data, layout=layout)\n",
    "#py.iplot(fig,filename = 'NbContribsSection')\n",
    "plotly.offline.iplot(fig, show_link=False)\n"
   ]
  },
  {
   "cell_type": "markdown",
   "metadata": {},
   "source": [
    "Atmospheric science is the most trendy topics in the geoscience academic world for the past two years. It is closely followed by Hydrology and Biogeosciences. Together, these three thematics count for nearly 35% of all AGU contributions in 2015 and clearly dominates, by far, the rest of the conference interest. It would be interesting to see if the research thematic funding distribution in geoscience follows the same distribution. I suppose that should be the case though. "
   ]
  },
  {
   "cell_type": "code",
   "execution_count": null,
   "metadata": {
    "collapsed": false
   },
   "outputs": [],
   "source": [
    "N = year2015.groupby('section').nb_authors.sum().sum()\n",
    "year2015.groupby('section').nb_authors.sum().sort_values(ascending=False)[:3].sum()/float(N)"
   ]
  },
  {
   "cell_type": "markdown",
   "metadata": {},
   "source": [
    "Also worth noticing, Global Environmental Change is also part of the top 5. Given the increasing importance of this thematic throughout our society, this is actually not suprising. Taking a closer look, we can see that an important part of the research investigations in this field focus of renewable enery (4.7% of all the contributions) and carbon sequestration-related problem (about 7%). Global warming and climate-related change are also popular in this section as expected. \n"
   ]
  },
  {
   "cell_type": "code",
   "execution_count": null,
   "metadata": {
    "collapsed": false
   },
   "outputs": [],
   "source": [
    "GE2015 = year2015.groupby('section').get_group('Global Environmental Change')\n",
    "index = GE2015.groupby('session').nb_authors.sum().sort_values(ascending=False).index.tolist()\n",
    "values = GE2015.groupby('session').nb_authors.sum().sort_values(ascending=False).tolist()\n",
    "# Keep only first 10 and put everything in others\n",
    "topn =40\n",
    "index = index[:topn]+['Others']\n",
    "values = values[:topn]+[sum(values[topn:])]\n",
    "\n",
    "trace0 = go.Pie(\n",
    "    labels = index,\n",
    "    values = values,\n",
    "    text = index,\n",
    "    marker = {'colors':sns.color_palette('deep',12)},\n",
    "    name = '2015',\n",
    "    textfont = {'size':12},\n",
    "    hoverinfo = \"label+value\",\n",
    "    showlegend = False,\n",
    "    textposition = \"inside\",\n",
    "    domain = {'x':[0,1.0]})\n",
    "data = [trace0]\n",
    "\n",
    "layout = go.Layout(\n",
    "    height = 750,\n",
    "    titlefont = {'size':18},\n",
    "    margin = {'b':50,'r':50,'l':50,'t':50},\n",
    "    legend = {'yanchor':'auto',\n",
    "             'font':{'size':9},\n",
    "             'x':0.75},\n",
    "    title='Nb of contributions by session in the Global Environmental Change section (2015)')\n",
    "\n",
    "\n",
    "fig = go.Figure(data=data,layout=layout)\n",
    "#py.iplot(fig,filename = 'NbContribsGEC')\n",
    "plotly.offline.iplot(fig, show_link=False)"
   ]
  },
  {
   "cell_type": "markdown",
   "metadata": {},
   "source": [
    "2015 has also been a year of many exiting results in planetary science (which is closely related to my PhD subject by the way) with the release of very interesting data from many different spacecraft. This is again nicely reflected in the conference. The three first ranked session are indeed dealing with important planetary science mission which gaves results this year\n",
    "\n",
    "- The MAVEN mission from NASA which investigates the martian atmosphere\n",
    "- The Rosetta mission from ESA which, after 10 years of inactivity, wakes up and manage its rendezvous with the comete Chury (Churyumov-Gerasimenko).\n",
    "- The Dawn mission from NASA which investigates two of the three known protoplanets of the asteroid belt, Vesta and Ceres.\n"
   ]
  },
  {
   "cell_type": "code",
   "execution_count": null,
   "metadata": {
    "collapsed": false
   },
   "outputs": [],
   "source": [
    "PS2015 = year2015.groupby('section').get_group('Planetary Sciences')\n",
    "index = PS2015.groupby('session').nb_authors.sum().sort_values(ascending=False).index.tolist()\n",
    "values = PS2015.groupby('session').nb_authors.sum().sort_values(ascending=False).tolist()\n",
    "# Keep only first 10 and put everything in others\n",
    "topn =31\n",
    "index = index[:topn]+['Others']\n",
    "values = values[:topn]+[sum(values[topn:])]\n",
    "\n",
    "trace0 = go.Pie(\n",
    "    labels = index,\n",
    "    text = index,\n",
    "    values = values,\n",
    "    marker = {'colors':sns.color_palette('hls',len(index)).as_hex()},\n",
    "    name = '2015',\n",
    "    textfont = {'size':12},\n",
    "    hoverinfo = \"label+value\",\n",
    "    showlegend = False,\n",
    "    textposition = \"inside\",\n",
    "    domain = {'x':[0,1.0]})\n",
    "data = [trace0]\n",
    "\n",
    "layout = go.Layout(\n",
    "    height = 750,\n",
    "    titlefont = {'size':18},\n",
    "    margin = {'b':50,'r':50,'l':50,'t':50},\n",
    "    legend = {'yanchor':'auto',\n",
    "             'font':{'size':9},\n",
    "             'x':0.85},\n",
    "    title='Nb of contributions by session in the Planetary Sciences section (2015)')\n",
    "\n",
    "\n",
    "fig = go.Figure(data=data,layout=layout)\n",
    "#py.iplot(fig,filename = 'NbContribsPS')\n",
    "plotly.offline.iplot(fig, show_link=False)"
   ]
  },
  {
   "cell_type": "markdown",
   "metadata": {},
   "source": [
    "# Distribution by country "
   ]
  },
  {
   "cell_type": "code",
   "execution_count": null,
   "metadata": {
    "collapsed": false
   },
   "outputs": [],
   "source": [
    "section_to_tag_dict = {row.tag:row.section for i,row in year2015.iterrows()}\n",
    "def section_to_tag(key):\n",
    "    return section_to_tag_dict[key]"
   ]
  },
  {
   "cell_type": "code",
   "execution_count": null,
   "metadata": {
    "collapsed": false
   },
   "outputs": [],
   "source": [
    "columns = ['name','country','nb_contrib','year']\n",
    "dfc = pd.DataFrame(columns = columns)\n",
    "for year in [2014,2015]:\n",
    "    contribs = get_all_contrib(str(year))\n",
    "    dfc = dfc.append(pd.DataFrame([[obj.name,obj.country,len(obj.papers),year] for obj in contribs],columns = columns))"
   ]
  },
  {
   "cell_type": "code",
   "execution_count": null,
   "metadata": {
    "collapsed": true
   },
   "outputs": [],
   "source": [
    "year2015c = dfc.groupby('year').get_group(2015)\n",
    "year2014c = dfc.groupby('year').get_group(2014)"
   ]
  },
  {
   "cell_type": "code",
   "execution_count": null,
   "metadata": {
    "collapsed": false
   },
   "outputs": [],
   "source": [
    "country = year2015c.groupby('country').nb_contrib.sum().sort_values(ascending = False)\n",
    "trace0 = go.Bar(\n",
    "    x=country.index.tolist(),\n",
    "    y=country.tolist(),\n",
    "    name='2015',\n",
    "    marker=dict(\n",
    "        color=sns.color_palette('deep').as_hex()[0]\n",
    "    )\n",
    ")\n",
    "country = year2014c.groupby('country').nb_contrib.sum().sort_values(ascending = False)\n",
    "trace1 = go.Bar(\n",
    "    x=country.index.tolist(),\n",
    "    y=country.tolist(),\n",
    "    name='2014',\n",
    "    marker=dict(\n",
    "        color=sns.color_palette('deep').as_hex()[2]\n",
    "    )\n",
    ")\n",
    "data = [trace0,trace1]\n",
    "layout = go.Layout(\n",
    "    legend = {'xanchor':'center',\n",
    "              'x':.5},\n",
    "    height = 750,\n",
    "    titlefont = {'size':18},\n",
    "    margin = {'b':250,'r':100},\n",
    "    title='Nb of contributors by country',\n",
    "    yaxis = dict(title='Nb of contributors',\n",
    "                titlefont = {'size':18},\n",
    "                tickfont = {'size':18},\n",
    "                range = [0,5000]),\n",
    "    xaxis=dict(\n",
    "        # set x-axis' labels direction at 45 degree angle\n",
    "        tickangle=-45,\n",
    "        tickfont = {'size':14},\n",
    "        range = [-1,20]\n",
    "    ),\n",
    "    barmode='group',\n",
    ")\n",
    "fig = go.Figure(data=data, layout=layout)\n",
    "#py.iplot(fig,filename = 'NbContribsCounry')\n",
    "plotly.offline.iplot(fig, show_link=False)\n"
   ]
  }
 ],
 "metadata": {
  "kernelspec": {
   "display_name": "Python 2",
   "language": "python",
   "name": "python2"
  },
  "language_info": {
   "codemirror_mode": {
    "name": "ipython",
    "version": 2
   },
   "file_extension": ".py",
   "mimetype": "text/x-python",
   "name": "python",
   "nbconvert_exporter": "python",
   "pygments_lexer": "ipython2",
   "version": "2.7.11"
  },
  "latex_envs": {
   "bibliofile": "biblio.bib",
   "cite_by": "apalike",
   "current_citInitial": 1,
   "eqLabelWithNumbers": true,
   "eqNumInitial": 0
  }
 },
 "nbformat": 4,
 "nbformat_minor": 0
}
