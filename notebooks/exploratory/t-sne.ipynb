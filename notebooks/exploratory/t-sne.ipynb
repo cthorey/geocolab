{
 "cells": [
  {
   "cell_type": "code",
   "execution_count": 3,
   "metadata": {
    "collapsed": true
   },
   "outputs": [],
   "source": [
    "%load_ext autoreload \n",
    "%autoreload 2\n",
    "import os,sys\n",
    "sys.path.append('../..')\n",
    "\n",
    "from src.model.recomendation import *\n",
    "import pandas as pd\n",
    "import seaborn as sns\n",
    "\n",
    "import matplotlib.pylab as plt\n",
    "%matplotlib inline"
   ]
  },
  {
   "cell_type": "code",
   "execution_count": 4,
   "metadata": {
    "collapsed": false
   },
   "outputs": [],
   "source": [
    "r = RecomendationSystem('LSA_500')"
   ]
  },
  {
   "cell_type": "code",
   "execution_count": 5,
   "metadata": {
    "collapsed": true
   },
   "outputs": [],
   "source": [
    "sections = [f['section'] for f in r.query_db('select section from papers')]\n",
    "titles = [f['title'] for f in r.query_db('select title from papers')]"
   ]
  },
  {
   "cell_type": "markdown",
   "metadata": {},
   "source": [
    "# T-sne "
   ]
  },
  {
   "cell_type": "code",
   "execution_count": 6,
   "metadata": {
    "collapsed": false
   },
   "outputs": [],
   "source": [
    "import plotly\n",
    "import plotly.plotly as py\n",
    "import plotly.graph_objs as go\n",
    "from plotly.tools import FigureFactory as FF \n",
    "#plotly.offline.init_notebook_mode()  \n",
    "import seaborn as sns\n",
    "\n",
    "from sklearn.manifold import TSNE\n",
    "from sklearn.externals import joblib"
   ]
  },
  {
   "cell_type": "code",
   "execution_count": 7,
   "metadata": {
    "collapsed": false
   },
   "outputs": [],
   "source": [
    "from palettable.tableau import Tableau_20\n",
    "X_tsne = joblib.load('../../models/LSA_500/LSA_500_Xtsne.pkl')\n",
    "unique_section = set(sections)\n",
    "color = Tableau_20.hex_colors\n",
    "section2color = dict(zip(set(sections),color))\n",
    "labels = np.array(sections)"
   ]
  },
  {
   "cell_type": "code",
   "execution_count": 8,
   "metadata": {
    "collapsed": false
   },
   "outputs": [],
   "source": [
    "color = Tableau_20.hex_colors\n",
    "from palettable.colorbrewer.sequential import BuPu_7\n",
    "clever_color = dict.fromkeys(unique_section)\n",
    "clever_color[u'SPA-Aeronomy']= sns.color_palette('Oranges').as_hex()[-2]\n",
    "clever_color[u'SPA-Magnetospheric Physics']= sns.color_palette('Oranges').as_hex()[-2]\n",
    "clever_color[u'SPA-Solar and Heliospheric Physics']= sns.color_palette('Oranges').as_hex()[-2]\n",
    "clever_color[u'Planetary Sciences']= sns.color_palette('Oranges').as_hex()[-1]\n",
    "clever_color[u'Geodesy']= sns.color_palette('Oranges').as_hex()[-3]\n",
    "clever_color[u'Geomagnetism and Paleomagnetism']= sns.color_palette('Oranges').as_hex()[-4]\n",
    "clever_color[u'Atmospheric Sciences']= sns.color_palette('Reds').as_hex()[-1]\n",
    "clever_color[u'Atmospheric and Space Electricity']= sns.color_palette('Reds').as_hex()[-2]\n",
    "clever_color[u'Cryosphere']= sns.color_palette('Blues').as_hex()[-1]\n",
    "clever_color[u'Ocean Sciences']= sns.color_palette('Blues').as_hex()[-3]\n",
    "clever_color[u'Hydrology']= sns.color_palette('Blues').as_hex()[-2]\n",
    "\n",
    "clever_color[u'Biogeosciences']= sns.color_palette('Greens').as_hex()[-1]\n",
    "\n",
    "clever_color[u'Earth and Planetary Surface Processes']= BuPu_7.hex_colors[-1]\n",
    "clever_color[u'Natural Hazards']= BuPu_7.hex_colors[-2]\n",
    "clever_color[u'Seismology']= BuPu_7.hex_colors[-3]\n",
    "clever_color[u'Tectonophysics']= BuPu_7.hex_colors[-3]\n",
    "clever_color[u'Volcanology, Geochemistry and Petrology']= BuPu_7.hex_colors[-4]\n",
    "\n",
    "clever_color[u'Near Surface Geophysics']= Tableau_20.hex_colors[-3]\n",
    "clever_color[u'Mineral and Rock Physics']= Tableau_20.hex_colors[-4]\n",
    "clever_color[u\"Study of Earth's Deep Interior\"]= Tableau_20.hex_colors[-4]\n",
    "\n",
    "clever_color[u'Nonlinear Geophysics']= Tableau_20.hex_colors[10]\n",
    "clever_color[u'Earth and Space Science Informatics']= Tableau_20.hex_colors[11]\n",
    "\n",
    "clever_color[u'Education']= Tableau_20.hex_colors[-5]\n",
    "clever_color[u'Public Affairs']= Tableau_20.hex_colors[-5]\n",
    "clever_color[u'Union']= Tableau_20.hex_colors[-5]\n",
    "section2color = clever_color"
   ]
  },
  {
   "cell_type": "code",
   "execution_count": 9,
   "metadata": {
    "collapsed": true
   },
   "outputs": [],
   "source": [
    "unique_section= [u' SPA-Aeronomy',u'SPA-Magnetospheric Physics',u'SPA-Solar and Heliospheric Physics',u'Planetary Sciences',\n",
    "                u'Geodesy',u'Geomagnetism and Paleomagnetism',u'Atmospheric Sciences',u'Atmospheric and Space Electricity',\n",
    "                u' Atmospheric and Space Electricity',u' Cryosphere',u' Ocean Sciences',u' Hydrology',u' Biogeosciences',\n",
    "                u' Earth and Planetary Surface Processes',u' Natural Hazards',u' Seismology',u' Tectonophysics',\n",
    "                u' Volcanology, Geochemistry and Petrology',u' Near Surface Geophysics',u' Mineral and Rock Physics',\n",
    "                u\" Study of Earth's Deep Interior\",u' Nonlinear Geophysics',u' Earth and Space Science Informatics',\n",
    "                u' Education',u' Public Affairs',u' Union']"
   ]
  },
  {
   "cell_type": "code",
   "execution_count": 10,
   "metadata": {
    "collapsed": false
   },
   "outputs": [
    {
     "name": "stderr",
     "output_type": "stream",
     "text": [
      "100%|██████████| 26/26 [00:00<00:00, 44.00it/s]\n"
     ]
    },
    {
     "data": {
      "text/html": [
       "<iframe id=\"igraph\" scrolling=\"no\" style=\"border:none;\" seamless=\"seamless\" src=\"https://plot.ly/~clement.thorey/56.embed\" height=\"600px\" width=\"900px\"></iframe>"
      ],
      "text/plain": [
       "<plotly.tools.PlotlyDisplay object>"
      ]
     },
     "execution_count": 10,
     "metadata": {},
     "output_type": "execute_result"
    }
   ],
   "source": [
    "traces = []\n",
    "for section in tqdm(unique_section,total = len(unique_section)):\n",
    "    mask = labels == section.strip()\n",
    "    x_data = X_tsne[mask,0]\n",
    "    y_data = X_tsne[mask,1]\n",
    "    text = np.array(titles)[mask] \n",
    "\n",
    "    trace = go.Scattergl(\n",
    "        x = x_data,\n",
    "        y = y_data,\n",
    "        text = [f[:50]+'...' for f in text],\n",
    "        name = section.strip(),\n",
    "        hoverinfo = 'name+text',\n",
    "        mode = 'markers',\n",
    "        marker = dict(\n",
    "            size = 5,\n",
    "            opacity = 0.5,\n",
    "            color = section2color[section.strip()],\n",
    "            line = {'width':0}\n",
    "        )\n",
    "        )\n",
    "    traces.append(trace)\n",
    "\n",
    "layout = go.Layout(\n",
    "    xaxis = {'showline':False,\n",
    "             'showticklabels':False,\n",
    "             'zerolinewidth':0,\n",
    "             'showgrid':False,\n",
    "            'domain':[0,0.7]},\n",
    "    yaxis = {'showline':False,\n",
    "            'showticklabels':False,\n",
    "            'zerolinewidth':0,\n",
    "            'showgrid':False},\n",
    "    height = 600,\n",
    "    width = 900,\n",
    "    margin = {'b':30,'r':30,'l':30,'t':30},\n",
    "    title='t-sne of the 500 LSA embedding',\n",
    "    legend = {'yanchor':'center',\n",
    "              'bgcolor':'#EAEAF2',\n",
    "              'xanchor':'auto',\n",
    "             'font':{'size':9}})\n",
    "\n",
    "data = traces\n",
    "fig = go.Figure(data=data,layout=layout)\n",
    "plotly.offline.iplot(fig, show_link=False)\n",
    "#py.iplot(fig,filename = 'tsne_LSA_500_geocolab')"
   ]
  },
  {
   "cell_type": "code",
   "execution_count": 11,
   "metadata": {
    "collapsed": false
   },
   "outputs": [
    {
     "name": "stderr",
     "output_type": "stream",
     "text": [
      "100%|██████████| 26/26 [00:00<00:00, 50.45it/s]\n"
     ]
    },
    {
     "data": {
      "text/html": [
       "<iframe id=\"igraph\" scrolling=\"no\" style=\"border:none;\" seamless=\"seamless\" src=\"https://plot.ly/~clement.thorey/61.embed\" height=\"700px\" width=\"800px\"></iframe>"
      ],
      "text/plain": [
       "<plotly.tools.PlotlyDisplay object>"
      ]
     },
     "execution_count": 11,
     "metadata": {},
     "output_type": "execute_result"
    }
   ],
   "source": [
    "traces = []\n",
    "for section in tqdm(unique_section,total = len(unique_section)):\n",
    "    mask = labels == section.strip()\n",
    "    x_data = X_tsne[mask,0]\n",
    "    y_data = X_tsne[mask,1]\n",
    "    text = np.array(titles)[mask] \n",
    "\n",
    "    trace = go.Scattergl(\n",
    "        x = x_data,\n",
    "        y = y_data,\n",
    "        text = [f[:50]+'...' for f in text],\n",
    "        hoverinfo = 'name+text',\n",
    "        mode = 'markers',\n",
    "        name = section.strip(),\n",
    "        marker = dict(\n",
    "            size = 5,\n",
    "            opacity = 0.5,\n",
    "            color = section2color[section.strip()],\n",
    "            line = {'width':0}\n",
    "        )\n",
    "        )\n",
    "    traces.append(trace)\n",
    "\n",
    "layout = go.Layout(\n",
    "    xaxis = {'showline':False,\n",
    "             'showticklabels':False,\n",
    "             'zerolinewidth':0,\n",
    "             'showgrid':False,\n",
    "            'domain':[0,1]},\n",
    "    yaxis = {'showline':False,\n",
    "            'showticklabels':False,\n",
    "            'zerolinewidth':0,\n",
    "            'showgrid':False},\n",
    "    height = 700,\n",
    "    width = 800,\n",
    "    margin = {'b':30,'r':30,'l':30,'t':30},\n",
    "    title='t-sne of the 500 LSA embedding',\n",
    "    showlegend=False)\n",
    "\n",
    "data = traces\n",
    "fig = go.Figure(data=data,layout=layout)\n",
    "#plotly.offline.iplot(fig, show_link=False)\n",
    "py.iplot(fig,filename = 'tsne_LSA_500_geocolab_ss_legend')"
   ]
  },
  {
   "cell_type": "code",
   "execution_count": null,
   "metadata": {
    "collapsed": true
   },
   "outputs": [],
   "source": []
  }
 ],
 "metadata": {
  "kernelspec": {
   "display_name": "Python 2",
   "language": "python",
   "name": "python2"
  },
  "language_info": {
   "codemirror_mode": {
    "name": "ipython",
    "version": 2
   },
   "file_extension": ".py",
   "mimetype": "text/x-python",
   "name": "python",
   "nbconvert_exporter": "python",
   "pygments_lexer": "ipython2",
   "version": "2.7.11"
  },
  "latex_envs": {
   "bibliofile": "biblio.bib",
   "cite_by": "apalike",
   "current_citInitial": 1,
   "eqLabelWithNumbers": true,
   "eqNumInitial": 0
  }
 },
 "nbformat": 4,
 "nbformat_minor": 0
}
